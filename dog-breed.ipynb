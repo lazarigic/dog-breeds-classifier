{
 "cells": [
  {
   "cell_type": "code",
   "execution_count": 10,
   "metadata": {},
   "outputs": [],
   "source": [
    "import pandas as pd\n",
    "import numpy as np\n",
    "import os\n",
    "import fnmatch\n",
    "from datetime import datetime,timedelta  \n",
    "\n",
    "def read_image_lst_info(srcdir):\n",
    "    \"\"\"Walk through base folder and collect paths for all image files.\n",
    "        category info, return as a dataframe w/ \n",
    "        samp_index, cat_index, relpath, class name\"\"\"\n",
    "    \n",
    "    fileexts=['*.jpg']\n",
    "\n",
    "    # search through source folder for sample files\n",
    "    relpath = []\n",
    "    subdirname = []\n",
    "    for ext in fileexts:\n",
    "        for root, dirnames, filenames in os.walk(srcdir):\n",
    "            for filename in fnmatch.filter(filenames, ext):\n",
    "                subdir = root.split('\\\\')[-1]\n",
    "                relpath.append( subdir + '/' + filename)\n",
    "                subdirname.append(subdir)\n",
    "                \n",
    "    # make sample id\n",
    "    sampid = np.arange(len(subdirname))\n",
    "    \n",
    "    # subdir names will be used as class names\n",
    "    classnames = np.unique(subdirname)\n",
    "    \n",
    "    # generate class id for each sample\n",
    "    d = dict(zip(classnames,np.arange(len(classnames))))\n",
    "    classid = [d[x] for x in subdirname]\n",
    "    \n",
    "    # return dataframe with file info\n",
    "    return pd.DataFrame({'sampid': sampid, \n",
    "                         'classid':  classid,\n",
    "                         'path': relpath,\n",
    "                         'classname': subdirname} )   \n",
    "    \n",
    "# dir containing image files\n",
    "# NOTE: code assumes this script is run from directory \n",
    "#  containing srcdir.\n",
    "srcdir = './dog-breeds'\n",
    "\n",
    "df = read_image_lst_info(srcdir)"
   ]
  },
  {
   "cell_type": "code",
   "execution_count": 11,
   "metadata": {},
   "outputs": [
    {
     "name": "stdout",
     "output_type": "stream",
     "text": [
      "Generating train/test lst files:\n",
      "split 1\n",
      "  train: 1636 samples, 13 classes, dog_breeds_all_fold_1_train.lst\n",
      "  test: 409 samples, 13 classes, dog_breeds_all_fold_1_test.lst\n"
     ]
    }
   ],
   "source": [
    "from sklearn.model_selection import StratifiedShuffleSplit\n",
    "\n",
    "# num K folds train/test split sets you want to generate\n",
    "n_splits = 1 \n",
    "\n",
    "# None = select all classes\n",
    "n_classes = None \n",
    "\n",
    "# prefix for generated LST file names\n",
    "filenameroot = 'dog_breeds'\n",
    "\n",
    "# include all classes of image\n",
    "if n_classes is None:\n",
    "    filenameroot += '_all'\n",
    "    df_filt = df\n",
    "# include only the first specified number of classes\n",
    "else:\n",
    "    filenameroot += '_'+str(n_classes)\n",
    "    df_filt = df[df.classid<n_classes]\n",
    "\n",
    "# this split method ensures each class gets equal sample sizes\n",
    "sss = StratifiedShuffleSplit(n_splits=1, test_size=0.2, random_state=0)\n",
    "\n",
    "print('Generating train/test lst files:')\n",
    "for i, (train_index, test_index) in zip(range(n_splits), \n",
    "                    sss.split(df_filt, df_filt['classid'])):\n",
    "    df_train = df_filt.iloc[train_index,:3]\n",
    "    fname_train = filenameroot+'_fold_%d_train.lst'%(i+1)\n",
    "    df_train.to_csv(fname_train, index=False, header=False, sep='\\t')\n",
    "    \n",
    "    df_test = df_filt.iloc[test_index,:3]\n",
    "    fname_test = filenameroot+'_fold_%d_test.lst'%(i+1)\n",
    "    df_test.to_csv(fname_test,index=False, header=False, sep='\\t')\n",
    "    \n",
    "    print('split',i+1)\n",
    "    print('  train: %d samples, %d classes, %s'%(\n",
    "        df_train.shape[0], len(df_train.classid.unique()), fname_train))\n",
    "    print('  test: %d samples, %d classes, %s'%(\n",
    "        df_test.shape[0], len(df_test.classid.unique()), fname_test))"
   ]
  },
  {
   "cell_type": "code",
   "execution_count": null,
   "metadata": {},
   "outputs": [],
   "source": []
  }
 ],
 "metadata": {
  "kernelspec": {
   "display_name": "Python 3",
   "language": "python",
   "name": "python3"
  },
  "language_info": {
   "codemirror_mode": {
    "name": "ipython",
    "version": 3
   },
   "file_extension": ".py",
   "mimetype": "text/x-python",
   "name": "python",
   "nbconvert_exporter": "python",
   "pygments_lexer": "ipython3",
   "version": "3.8.5"
  }
 },
 "nbformat": 4,
 "nbformat_minor": 4
}
